{
 "cells": [
  {
   "cell_type": "code",
   "execution_count": 1,
   "metadata": {},
   "outputs": [],
   "source": [
    "import ccxt \n",
    "import pandas as pd "
   ]
  },
  {
   "cell_type": "code",
   "execution_count": 17,
   "metadata": {},
   "outputs": [
    {
     "data": {
      "text/html": [
       "<div>\n",
       "<style scoped>\n",
       "    .dataframe tbody tr th:only-of-type {\n",
       "        vertical-align: middle;\n",
       "    }\n",
       "\n",
       "    .dataframe tbody tr th {\n",
       "        vertical-align: top;\n",
       "    }\n",
       "\n",
       "    .dataframe thead th {\n",
       "        text-align: right;\n",
       "    }\n",
       "</style>\n",
       "<table border=\"1\" class=\"dataframe\">\n",
       "  <thead>\n",
       "    <tr style=\"text-align: right;\">\n",
       "      <th></th>\n",
       "      <th>symbol</th>\n",
       "      <th>timestamp</th>\n",
       "      <th>datetime</th>\n",
       "      <th>high</th>\n",
       "      <th>low</th>\n",
       "      <th>bid</th>\n",
       "      <th>bidVolume</th>\n",
       "      <th>ask</th>\n",
       "      <th>askVolume</th>\n",
       "      <th>vwap</th>\n",
       "      <th>open</th>\n",
       "      <th>close</th>\n",
       "      <th>last</th>\n",
       "      <th>previousClose</th>\n",
       "      <th>change</th>\n",
       "      <th>percentage</th>\n",
       "      <th>average</th>\n",
       "      <th>baseVolume</th>\n",
       "      <th>quoteVolume</th>\n",
       "      <th>info</th>\n",
       "    </tr>\n",
       "  </thead>\n",
       "  <tbody>\n",
       "    <tr>\n",
       "      <th>0</th>\n",
       "      <td>BTC/USD</td>\n",
       "      <td>1636729665187</td>\n",
       "      <td>2021-11-12T15:07:45.187Z</td>\n",
       "      <td>65489.55</td>\n",
       "      <td>63258.25</td>\n",
       "      <td>63309.46</td>\n",
       "      <td>0.024115</td>\n",
       "      <td>63309.47</td>\n",
       "      <td>0.01409</td>\n",
       "      <td>64376.5157</td>\n",
       "      <td>65186.11</td>\n",
       "      <td>63314.55</td>\n",
       "      <td>63314.55</td>\n",
       "      <td>65169.85</td>\n",
       "      <td>-1871.56</td>\n",
       "      <td>-2.871</td>\n",
       "      <td>64250.33</td>\n",
       "      <td>971.983716</td>\n",
       "      <td>6.257292e+07</td>\n",
       "      <td>{'symbol': 'BTCUSD', 'priceChange': '-1871.560...</td>\n",
       "    </tr>\n",
       "  </tbody>\n",
       "</table>\n",
       "</div>"
      ],
      "text/plain": [
       "    symbol      timestamp                  datetime      high       low  \\\n",
       "0  BTC/USD  1636729665187  2021-11-12T15:07:45.187Z  65489.55  63258.25   \n",
       "\n",
       "        bid  bidVolume       ask  askVolume        vwap      open     close  \\\n",
       "0  63309.46   0.024115  63309.47    0.01409  64376.5157  65186.11  63314.55   \n",
       "\n",
       "       last  previousClose   change  percentage   average  baseVolume  \\\n",
       "0  63314.55       65169.85 -1871.56      -2.871  64250.33  971.983716   \n",
       "\n",
       "    quoteVolume                                               info  \n",
       "0  6.257292e+07  {'symbol': 'BTCUSD', 'priceChange': '-1871.560...  "
      ]
     },
     "execution_count": 17,
     "metadata": {},
     "output_type": "execute_result"
    }
   ],
   "source": [
    "exchange = ccxt.binanceus()\n",
    "markets = exchange.load_markets()\n",
    "ticker = exchange.fetch_ticker('BTC/USD')\n",
    "\n",
    "df = pd.DataFrame(markets)\n",
    "columns = df.columns\n",
    "USDCrypto = []\n",
    "for column in columns : \n",
    "    splitedColumn = column.split('/')\n",
    "    if splitedColumn[1] == 'USD':\n",
    "        USDCrypto.append(exchange.fetch_ticker(str(column)))\n",
    "            \n",
    "\n",
    "dfCrypto = pd.DataFrame(USDCrypto)   \n",
    "dfCrypto.head(1)\n",
    "    \n",
    "\n"
   ]
  }
 ],
 "metadata": {
  "interpreter": {
   "hash": "29a760d99c576afae76d27cc92f52ac81b2b220167b0012221b7a2bce94f7987"
  },
  "kernelspec": {
   "display_name": "Python 3.8.5 64-bit ('venv': venv)",
   "name": "python3"
  },
  "language_info": {
   "codemirror_mode": {
    "name": "ipython",
    "version": 3
   },
   "file_extension": ".py",
   "mimetype": "text/x-python",
   "name": "python",
   "nbconvert_exporter": "python",
   "pygments_lexer": "ipython3",
   "version": "3.8.5"
  },
  "orig_nbformat": 4
 },
 "nbformat": 4,
 "nbformat_minor": 2
}
