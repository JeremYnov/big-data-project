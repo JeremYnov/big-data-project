{
 "cells": [
  {
   "cell_type": "code",
   "execution_count": 2,
   "metadata": {},
   "outputs": [],
   "source": [
    "import ccxt \n",
    "import pandas as pd "
   ]
  },
  {
   "cell_type": "code",
   "execution_count": 10,
   "metadata": {},
   "outputs": [
    {
     "data": {
      "text/plain": [
       "{'symbol': 'BTCUSD',\n",
       " 'priceChange': '-31.1700',\n",
       " 'priceChangePercent': '-0.049',\n",
       " 'weightedAvgPrice': '65078.0430',\n",
       " 'prevClosePrice': '64119.5600',\n",
       " 'lastPrice': '64091.3800',\n",
       " 'lastQty': '0.00155900',\n",
       " 'bidPrice': '64060.0300',\n",
       " 'bidQty': '0.12938000',\n",
       " 'askPrice': '64070.5400',\n",
       " 'askQty': '0.00818600',\n",
       " 'openPrice': '64122.5500',\n",
       " 'highPrice': '66355.1500',\n",
       " 'lowPrice': '63637.7600',\n",
       " 'volume': '819.75582600',\n",
       " 'quoteVolume': '53348104.9276',\n",
       " 'openTime': '1636923149674',\n",
       " 'closeTime': '1637009549674',\n",
       " 'firstId': '25732635',\n",
       " 'lastId': '25778227',\n",
       " 'count': '45593'}"
      ]
     },
     "execution_count": 10,
     "metadata": {},
     "output_type": "execute_result"
    }
   ],
   "source": [
    "exchange = ccxt.binanceus()\n",
    "markets = exchange.load_markets()\n",
    "\n",
    "df = pd.DataFrame(markets)\n",
    "columns = df.columns\n",
    "USDCrypto = []\n",
    "for column in columns : \n",
    "    splitedColumn = column.split('/')\n",
    "    if splitedColumn[1] == 'USD':\n",
    "        USDCrypto.append(exchange.fetch_ticker(str(column)))\n",
    "            \n",
    "\n",
    "dfCrypto = pd.DataFrame(USDCrypto)   \n",
    "dfCrypto.head(1)\n",
    "\n",
    "test = dfCrypto['info'][0]\n",
    "test"
   ]
  },
  {
   "cell_type": "code",
   "execution_count": 32,
   "metadata": {},
   "outputs": [
    {
     "name": "stdout",
     "output_type": "stream",
     "text": [
      "\n",
      "Kraken BTC/USD 1h chart:\n",
      "\n",
      "65982.80  ┤                                                                                                          ╭─╮\n",
      "65844.88  ┤                                                                                                 ╭─╮      │ │\n",
      "65706.96  ┤                                                                                                 │ ╰────╮╭╯ ╰─╮\n",
      "65569.04  ┤                                                                                                 │      ╰╯    │\n",
      "65431.12  ┤         ╭─╮                                                                                    ╭╯            ╰╮\n",
      "65293.20  ┤        ╭╯ ╰─╮                                                                                  │              │\n",
      "65155.29  ┼╮       │    │ ╭╮   ╭╮ ╭╮ ╭╮                                                                    │              │\n",
      "65017.37  ┤╰╮      │    ╰╮││╭─╮││╭╯│ │╰╮╭╮                                          ╭╮                     │              │\n",
      "64879.45  ┤ ╰╮    ╭╯     ││╰╯ ││╰╯ ╰─╯ ╰╯│  ╭╮                                      ││   ╭─╮               │              ╰╮\n",
      "64741.53  ┤  ╰╮╭╮╭╯      ╰╯   ╰╯         ╰╮ ││                            ╭─╮       │╰───╯ ╰╮    ╭╮        │               │\n",
      "64603.61  ┤   ││╰╯                        ╰╮││                            │ ╰─╮     │       │   ╭╯│       ╭╯               │\n",
      "64465.69  ┤   ╰╯                           ╰╯│                            │   │    ╭╯       │ ╭─╯ │       │                │\n",
      "64327.77  ┤                                  │              ╭╮            │   │ ╭──╯        ╰─╯   ╰╮     ╭╯                ╰─╮ ╭╮\n",
      "64189.85  ┤                                  │          ╭─╮╭╯│            │   ╰╮│                  ╰╮╭╮╭─╯                   │ ││\n",
      "64051.93  ┤                                  │   ╭╮     │ ╰╯ │     ╭╮     │    ╰╯                   ││╰╯                     ╰╮││\n",
      "63914.01  ┤                                  ╰╮ ╭╯│   ╭─╯    ╰╮╭╮ ╭╯╰╮    │                         ││                        ╰╯╰─\n",
      "63776.10  ┤                                   ╰─╯ │   │       ╰╯╰╮│  │╭╮  │                         ╰╯\n",
      "63638.18  ┤                                       ╰╮ ╭╯          ╰╯  ││╰──╯\n",
      "63500.26  ┤                                        │ │               ╰╯\n",
      "63362.34  ┤                                        │ │\n",
      "63224.42  ┤                                        ╰─╯\n",
      "63086.50  ┤\n",
      "\n",
      "Kraken ₿ = $63847.7\n",
      "\n",
      "\n",
      "Coinbase Pro BTC/USD 1h chart:\n",
      "\n",
      "65992.94  ┤                                                                                                          ╭─╮\n",
      "65855.05  ┤                                                                                                 ╭─╮      │ │\n",
      "65717.16  ┤                                                                                                 │ ╰────╮╭╯ ╰─╮\n",
      "65579.27  ┤                                                                                                 │      ╰╯    │\n",
      "65441.38  ┤         ╭─╮                                                                                    ╭╯            ╰╮\n",
      "65303.49  ┤        ╭╯ ╰─╮                                                                                  │              │\n",
      "65165.61  ┼╮       │    │ ╭╮   ╭╮ ╭╮ ╭╮                                                                    │              │\n",
      "65027.72  ┤│╭╮     │    ╰╮││╭─╮││╭╯│ │╰╮╭╮                                          ╭╮                     │              │\n",
      "64889.83  ┤╰╯│    ╭╯     ││╰╯ ││╰╯ ╰─╯ ╰╯│  ╭╮                                      │╰╮  ╭─╮               │              ╰╮\n",
      "64751.94  ┤  ╰╮╭╮╭╯      ╰╯   ╰╯         ╰╮ ││                            ╭─╮╭╮     │ ╰──╯ │               │               │\n",
      "64614.05  ┤   ╰╯╰╯                        ╰─╯│                            │ ╰╯│     │      ╰╮   ╭─╮       ╭╯               │\n",
      "64476.16  ┤                                  │              ╭╮            │   │ ╭─╮╭╯       │ ╭─╯ ╰╮      │                │\n",
      "64338.27  ┤                                  │              ││            │   │ │ ╰╯        ╰─╯    │    ╭─╯                ╰─╮ ╭╮\n",
      "64200.38  ┤                                  │          ╭─╮╭╯│            │   ╰╮│                  ╰╮╭╮╭╯                    │ ││\n",
      "64062.49  ┤                                  │   ╭╮     │ ╰╯ │     ╭╮     │    ╰╯                   ││╰╯                     ╰╮││\n",
      "63924.60  ┤                                  ╰╮ ╭╯│   ╭─╯    ╰╮╭╮ ╭╯╰╮    │                         ││                        ╰╯╰╮\n",
      "63786.72  ┤                                   ╰─╯ │   │       ╰╯╰╮│  │╭╮  │                         ╰╯                           ╰\n",
      "63648.83  ┤                                       │  ╭╯          ╰╯  ││╰──╯\n",
      "63510.94  ┤                                       ╰╮ │               ╰╯\n",
      "63373.05  ┤                                        │ │\n",
      "63235.16  ┤                                        ╰─╯\n",
      "63097.27  ┤\n",
      "\n",
      "Coinbase Pro ₿ = $63756.93\n",
      "\n"
     ]
    },
    {
     "ename": "TypeError",
     "evalue": "'method' object is not subscriptable",
     "output_type": "error",
     "traceback": [
      "\u001b[1;31m---------------------------------------------------------------------------\u001b[0m",
      "\u001b[1;31mTypeError\u001b[0m                                 Traceback (most recent call last)",
      "\u001b[1;32m~\\AppData\\Local\\Temp/ipykernel_14560/3200544106.py\u001b[0m in \u001b[0;36m<module>\u001b[1;34m\u001b[0m\n\u001b[0;32m     52\u001b[0m \u001b[0mtest\u001b[0m \u001b[1;33m=\u001b[0m \u001b[0mkraken\u001b[0m\u001b[1;33m.\u001b[0m\u001b[0mcurrencies\u001b[0m\u001b[1;33m\u001b[0m\u001b[1;33m\u001b[0m\u001b[0m\n\u001b[0;32m     53\u001b[0m \u001b[0mtest\u001b[0m \u001b[1;33m=\u001b[0m \u001b[0mpd\u001b[0m\u001b[1;33m.\u001b[0m\u001b[0mDataFrame\u001b[0m\u001b[1;33m(\u001b[0m\u001b[0mkraken\u001b[0m\u001b[1;33m.\u001b[0m\u001b[0mcurrencies\u001b[0m\u001b[1;33m)\u001b[0m\u001b[1;33m\u001b[0m\u001b[1;33m\u001b[0m\u001b[0m\n\u001b[1;32m---> 54\u001b[1;33m \u001b[0mtest\u001b[0m\u001b[1;33m.\u001b[0m\u001b[0minfo\u001b[0m\u001b[1;33m[\u001b[0m\u001b[1;36m0\u001b[0m\u001b[1;33m]\u001b[0m\u001b[1;33m\u001b[0m\u001b[1;33m\u001b[0m\u001b[0m\n\u001b[0m",
      "\u001b[1;31mTypeError\u001b[0m: 'method' object is not subscriptable"
     ]
    }
   ],
   "source": [
    "# -*- coding: utf-8 -*-\n",
    "\n",
    "import os\n",
    "import sys\n",
    "from asciichartpy import plot\n",
    "\n",
    "# -----------------------------------------------------------------------------\n",
    "\n",
    "# this_folder = os.path.dirname(os.path.abspath(__file__))\n",
    "# root_folder = os.path.dirname(os.path.dirname(this_folder))\n",
    "# sys.path.append(root_folder + '/python')\n",
    "# sys.path.append(this_folder)\n",
    "\n",
    "# -----------------------------------------------------------------------------\n",
    "\n",
    "import ccxt  # noqa: E402\n",
    "\n",
    "# -----------------------------------------------------------------------------\n",
    "\n",
    "kraken = ccxt.kraken()\n",
    "coinbasepro = ccxt.coinbasepro()\n",
    "\n",
    "symbol = 'BTC/USD'\n",
    "\n",
    "# each ohlcv candle is a list of [ timestamp, open, high, low, close, volume ]\n",
    "index = 4  # use close price from each ohlcv candle\n",
    "\n",
    "\n",
    "def print_chart(exchange, symbol, timeframe):\n",
    "\n",
    "    print(\"\\n\" + exchange.name + ' ' + symbol + ' ' + timeframe + ' chart:')\n",
    "\n",
    "    # get a list of ohlcv candles\n",
    "    ohlcv = exchange.fetch_ohlcv(symbol, timeframe)\n",
    "\n",
    "    # get the ohlCv (closing price, index == 4)\n",
    "    series = [x[index] for x in ohlcv]\n",
    "\n",
    "    # print the chart\n",
    "    print(\"\\n\" + plot(series[-120:], {'height': 20}))  # print the chart\n",
    "\n",
    "    last = ohlcv[len(ohlcv) - 1][index]  # last closing price\n",
    "    return last\n",
    "\n",
    "\n",
    "last = print_chart(kraken, 'BTC/USD', '1h')\n",
    "print(\"\\n\" + kraken.name + \" ₿ = $\" + str(last) + \"\\n\")  # print last closing price\n",
    "\n",
    "last = print_chart(coinbasepro, 'BTC/USD', '1h')\n",
    "print(\"\\n\" + coinbasepro.name + \" ₿ = $\" + str(last) + \"\\n\")  # print last closing price\n",
    "\n",
    "test = kraken.currencies\n",
    "test = pd.DataFrame(kraken.currencies)"
   ]
  }
 ],
 "metadata": {
  "interpreter": {
   "hash": "29a760d99c576afae76d27cc92f52ac81b2b220167b0012221b7a2bce94f7987"
  },
  "kernelspec": {
   "display_name": "Python 3.8.5 64-bit ('venv': venv)",
   "name": "python3"
  },
  "language_info": {
   "codemirror_mode": {
    "name": "ipython",
    "version": 3
   },
   "file_extension": ".py",
   "mimetype": "text/x-python",
   "name": "python",
   "nbconvert_exporter": "python",
   "pygments_lexer": "ipython3",
   "version": "3.8.5"
  },
  "orig_nbformat": 4
 },
 "nbformat": 4,
 "nbformat_minor": 2
}
