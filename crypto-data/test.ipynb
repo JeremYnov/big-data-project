{
 "cells": [
  {
   "cell_type": "code",
   "execution_count": 2,
   "metadata": {},
   "outputs": [],
   "source": [
    "# -*- coding: utf-8 -*-\n",
    "\n",
    "import os\n",
    "import sys\n",
    "from asciichartpy import plot\n"
   ]
  },
  {
   "cell_type": "code",
   "execution_count": 3,
   "metadata": {},
   "outputs": [
    {
     "ename": "NameError",
     "evalue": "name '__file__' is not defined",
     "output_type": "error",
     "traceback": [
      "\u001b[1;31m---------------------------------------------------------------------------\u001b[0m",
      "\u001b[1;31mNameError\u001b[0m                                 Traceback (most recent call last)",
      "\u001b[1;32m~\\AppData\\Local\\Temp/ipykernel_2456/486031014.py\u001b[0m in \u001b[0;36m<module>\u001b[1;34m\u001b[0m\n\u001b[1;32m----> 1\u001b[1;33m \u001b[0mthis_folder\u001b[0m \u001b[1;33m=\u001b[0m \u001b[0mos\u001b[0m\u001b[1;33m.\u001b[0m\u001b[0mpath\u001b[0m\u001b[1;33m.\u001b[0m\u001b[0mdirname\u001b[0m\u001b[1;33m(\u001b[0m\u001b[0mos\u001b[0m\u001b[1;33m.\u001b[0m\u001b[0mpath\u001b[0m\u001b[1;33m.\u001b[0m\u001b[0mabspath\u001b[0m\u001b[1;33m(\u001b[0m\u001b[0m__file__\u001b[0m\u001b[1;33m)\u001b[0m\u001b[1;33m)\u001b[0m\u001b[1;33m\u001b[0m\u001b[1;33m\u001b[0m\u001b[0m\n\u001b[0m\u001b[0;32m      2\u001b[0m \u001b[0mroot_folder\u001b[0m \u001b[1;33m=\u001b[0m \u001b[0mos\u001b[0m\u001b[1;33m.\u001b[0m\u001b[0mpath\u001b[0m\u001b[1;33m.\u001b[0m\u001b[0mdirname\u001b[0m\u001b[1;33m(\u001b[0m\u001b[0mos\u001b[0m\u001b[1;33m.\u001b[0m\u001b[0mpath\u001b[0m\u001b[1;33m.\u001b[0m\u001b[0mdirname\u001b[0m\u001b[1;33m(\u001b[0m\u001b[0mthis_folder\u001b[0m\u001b[1;33m)\u001b[0m\u001b[1;33m)\u001b[0m\u001b[1;33m\u001b[0m\u001b[1;33m\u001b[0m\u001b[0m\n\u001b[0;32m      3\u001b[0m \u001b[0msys\u001b[0m\u001b[1;33m.\u001b[0m\u001b[0mpath\u001b[0m\u001b[1;33m.\u001b[0m\u001b[0mappend\u001b[0m\u001b[1;33m(\u001b[0m\u001b[0mroot_folder\u001b[0m \u001b[1;33m+\u001b[0m \u001b[1;34m'/python'\u001b[0m\u001b[1;33m)\u001b[0m\u001b[1;33m\u001b[0m\u001b[1;33m\u001b[0m\u001b[0m\n\u001b[0;32m      4\u001b[0m \u001b[0msys\u001b[0m\u001b[1;33m.\u001b[0m\u001b[0mpath\u001b[0m\u001b[1;33m.\u001b[0m\u001b[0mappend\u001b[0m\u001b[1;33m(\u001b[0m\u001b[0mthis_folder\u001b[0m\u001b[1;33m)\u001b[0m\u001b[1;33m\u001b[0m\u001b[1;33m\u001b[0m\u001b[0m\n",
      "\u001b[1;31mNameError\u001b[0m: name '__file__' is not defined"
     ]
    }
   ],
   "source": [
    "# this_folder = os.path.dirname(os.path.abspath(__file__))\n",
    "# root_folder = os.path.dirname(os.path.dirname(this_folder))\n",
    "# sys.path.append(root_folder + '/python')\n",
    "# sys.path.append(this_folder)"
   ]
  },
  {
   "cell_type": "code",
   "execution_count": 4,
   "metadata": {},
   "outputs": [],
   "source": [
    "import ccxt  # noqa: E402"
   ]
  },
  {
   "cell_type": "code",
   "execution_count": 5,
   "metadata": {},
   "outputs": [],
   "source": [
    "kraken = ccxt.kraken()\n",
    "coinbasepro = ccxt.coinbasepro()\n",
    "\n",
    "symbol = 'BTC/USD'\n",
    "\n",
    "# each ohlcv candle is a list of [ timestamp, open, high, low, close, volume ]\n",
    "index = 4  # use close price from each ohlcv candle\n",
    "\n",
    "\n",
    "def print_chart(exchange, symbol, timeframe):\n",
    "\n",
    "    print(\"\\n\" + exchange.name + ' ' + symbol + ' ' + timeframe + ' chart:')\n",
    "\n",
    "    # get a list of ohlcv candles\n",
    "    ohlcv = exchange.fetch_ohlcv(symbol, timeframe)\n",
    "\n",
    "    # get the ohlCv (closing price, index == 4)\n",
    "    series = [x[index] for x in ohlcv]\n",
    "\n",
    "    # print the chart\n",
    "    print(\"\\n\" + plot(series[-120:], {'height': 20}))  # print the chart\n",
    "\n",
    "    last = ohlcv[len(ohlcv) - 1][index]  # last closing price\n",
    "    return last\n"
   ]
  },
  {
   "cell_type": "code",
   "execution_count": 14,
   "metadata": {},
   "outputs": [
    {
     "name": "stdout",
     "output_type": "stream",
     "text": [
      "\n",
      "Kraken BTC/USD 1d chart:\n",
      "\n",
      "66035.80  ┤\n",
      "64309.72  ┤                                                                                                       ╭╮\n",
      "62583.64  ┤                                                                                                      ╭╯│   ╭╮      ╭─╮\n",
      "60857.56  ┤                                                                                                  ╭───╯ ╰╮╭─╯│  ╭───╯ ╰\n",
      "59131.48  ┤                                                                                                  │      ╰╯  ╰╮╭╯\n",
      "57405.40  ┤                                                                                              ╭╮╭─╯           ╰╯\n",
      "55679.31  ┤                                                                                         ╭╮   │╰╯\n",
      "53953.23  ┤                                                                                         │╰───╯\n",
      "52227.15  ┤                                                          ╭─╮                            │\n",
      "50501.07  ┤                                                        ╭─╯ │                           ╭╯\n",
      "48774.99  ┤                                          ╭───╮╭╮╭──╮ ╭─╯   │       ╭╮ ╭╮           ╭╮╭─╯\n",
      "47048.91  ┤                               ╭╮  ╭──╮  ╭╯   ╰╯╰╯  ╰─╯     ╰╮╭╮   ╭╯╰─╯╰╮          │╰╯\n",
      "45322.83  ┤                             ╭╮│╰─╮│  ╰──╯                   ╰╯╰───╯     │  ╭╮      │\n",
      "43596.75  ┤                            ╭╯╰╯  ╰╯                                     ╰╮╭╯╰──╮  ╭╯\n",
      "41870.67  ┤                     ╭─╮   ╭╯                                             ││    ╰──╯\n",
      "40144.59  ┤                  ╭──╯ ╰─╮╭╯                                              ╰╯\n",
      "38418.50  ┤                 ╭╯      ╰╯\n",
      "36692.42  ┤                ╭╯\n",
      "34966.34  ┤╭╮╭╮          ╭─╯\n",
      "33240.26  ┼╯╰╯╰───╮ ╭╮ ╭─╯\n",
      "31514.18  ┤       ╰─╯╰╮│\n",
      "29788.10  ┤           ╰╯\n",
      "\n",
      "Kraken ₿ = $61498.7\n",
      "\n"
     ]
    }
   ],
   "source": [
    "last = print_chart(kraken, 'BTC/USD', '1d')\n",
    "print(\"\\n\" + kraken.name + \" ₿ = $\" + str(last) + \"\\n\")  # print last closing price\n",
    "\n"
   ]
  },
  {
   "cell_type": "code",
   "execution_count": 7,
   "metadata": {},
   "outputs": [
    {
     "name": "stdout",
     "output_type": "stream",
     "text": [
      "\n",
      "Coinbase Pro BTC/USD 1h chart:\n",
      "\n",
      "64066.27  ┤                                                                            ╭╮\n",
      "63871.30  ┤                                                                            ││\n",
      "63676.33  ┤                                                                            │╰╮ ╭╮\n",
      "63481.36  ┤                                                                          ╭─╯ ╰╮││   ╭╮     ╭╮\n",
      "63286.39  ┤                                                                       ╭╮ │    ╰╯│  ╭╯╰──╮  ││╭──╮     ╭╮ ╭╮\n",
      "63091.42  ┤                                                                      ╭╯╰─╯      ╰──╯    │╭╮│╰╯  │     ││ ││\n",
      "62896.45  ┤                                                                      │                  ╰╯╰╯    │     │╰─╯╰──╮\n",
      "62701.48  ┤                                                                      │                          │     │      │╭╮╭╮\n",
      "62506.51  ┤             ╭╮                                                       │                          ╰╮   ╭╯      ╰╯╰╯╰─╮\n",
      "62311.54  ┤             │╰╮                            ╭╮ ╭╮                     │                           │ ╭─╯             │\n",
      "62116.57  ┤             │ │                            │╰─╯│ ╭╮                  │                           │╭╯               │\n",
      "61921.59  ┼╮       ╭╮  ╭╯ ╰─╮                          │   ╰─╯│              ╭─╮ │                           ╰╯                ╰╮\n",
      "61726.62  ┤╰──╮   ╭╯╰╮╭╯    │                   ╭╮     │      │╭╮            │ ╰─╯                                              ╰─\n",
      "61531.65  ┤   │╭╮╭╯  ╰╯     ╰───╮            ╭──╯╰╮    │      ╰╯│  ╭╮    ╭╮ ╭╯\n",
      "61336.68  ┤   ╰╯╰╯              │            │    │    │        │  ││ ╭╮ ││╭╯\n",
      "61141.71  ┤                     │           ╭╯    │    │        ╰╮ ││ │╰─╯╰╯\n",
      "60946.74  ┤                     ╰╮╭╮    ╭╮╭─╯     │   ╭╯         ╰╮│╰─╯\n",
      "60751.77  ┤                      ╰╯│   ╭╯╰╯       ╰╮╭─╯           ╰╯\n",
      "60556.80  ┤                        ╰───╯           ││\n",
      "60361.83  ┤                                        ││\n",
      "60166.86  ┤                                        ╰╯\n",
      "59971.89  ┤\n",
      "\n",
      "Coinbase Pro ₿ = $61533.5\n",
      "\n"
     ]
    }
   ],
   "source": [
    "last = print_chart(coinbasepro, 'BTC/USD', '1h')\n",
    "print(\"\\n\" + coinbasepro.name + \" ₿ = $\" + str(last) + \"\\n\")  # print last closing price"
   ]
  }
 ],
 "metadata": {
  "interpreter": {
   "hash": "29a760d99c576afae76d27cc92f52ac81b2b220167b0012221b7a2bce94f7987"
  },
  "kernelspec": {
   "display_name": "Python 3.8.5 64-bit ('venv': venv)",
   "name": "python3"
  },
  "language_info": {
   "codemirror_mode": {
    "name": "ipython",
    "version": 3
   },
   "file_extension": ".py",
   "mimetype": "text/x-python",
   "name": "python",
   "nbconvert_exporter": "python",
   "pygments_lexer": "ipython3",
   "version": "3.8.5"
  },
  "orig_nbformat": 4
 },
 "nbformat": 4,
 "nbformat_minor": 2
}
