{
 "cells": [
  {
   "cell_type": "code",
   "execution_count": 4,
   "metadata": {},
   "outputs": [],
   "source": [
    "import ccxt \n",
    "import pandas as pd "
   ]
  },
  {
   "cell_type": "code",
   "execution_count": 5,
   "metadata": {},
   "outputs": [
    {
     "data": {
      "text/plain": [
       "{'symbol': 'BTCUSD',\n",
       " 'priceChange': '-1508.1800',\n",
       " 'priceChangePercent': '-2.500',\n",
       " 'weightedAvgPrice': '59935.1355',\n",
       " 'prevClosePrice': '60328.0500',\n",
       " 'lastPrice': '58808.9500',\n",
       " 'lastQty': '0.04196600',\n",
       " 'bidPrice': '58806.2400',\n",
       " 'bidQty': '0.00402000',\n",
       " 'askPrice': '58808.8400',\n",
       " 'askQty': '0.00451800',\n",
       " 'openPrice': '60317.1300',\n",
       " 'highPrice': '60988.0300',\n",
       " 'lowPrice': '58807.2900',\n",
       " 'volume': '863.13765100',\n",
       " 'quoteVolume': '51732272.0858',\n",
       " 'openTime': '1637155629950',\n",
       " 'closeTime': '1637242029950',\n",
       " 'firstId': '25906604',\n",
       " 'lastId': '25950491',\n",
       " 'count': '43888'}"
      ]
     },
     "execution_count": 5,
     "metadata": {},
     "output_type": "execute_result"
    }
   ],
   "source": [
    "exchange = ccxt.binanceus()\n",
    "markets = exchange.load_markets()\n",
    "\n",
    "df = pd.DataFrame(markets)\n",
    "columns = df.columns\n",
    "USDCrypto = []\n",
    "for column in columns : \n",
    "    splitedColumn = column.split('/')\n",
    "    if splitedColumn[1] == 'USD':\n",
    "        USDCrypto.append(exchange.fetch_ticker(str(column)))\n",
    "            \n",
    "\n",
    "dfCrypto = pd.DataFrame(USDCrypto)   \n",
    "dfCrypto.head(1)\n",
    "\n",
    "test = dfCrypto['info'][0]\n",
    "test"
   ]
  }
 ],
 "metadata": {
  "interpreter": {
   "hash": "29a760d99c576afae76d27cc92f52ac81b2b220167b0012221b7a2bce94f7987"
  },
  "kernelspec": {
   "display_name": "Python 3.8.5 64-bit ('venv': venv)",
   "name": "python3"
  },
  "language_info": {
   "codemirror_mode": {
    "name": "ipython",
    "version": 3
   },
   "file_extension": ".py",
   "mimetype": "text/x-python",
   "name": "python",
   "nbconvert_exporter": "python",
   "pygments_lexer": "ipython3",
   "version": "3.8.5"
  },
  "orig_nbformat": 4
 },
 "nbformat": 4,
 "nbformat_minor": 2
}
